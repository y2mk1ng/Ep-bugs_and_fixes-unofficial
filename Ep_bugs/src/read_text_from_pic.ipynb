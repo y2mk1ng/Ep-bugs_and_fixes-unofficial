{
 "cells": [
  {
   "cell_type": "code",
   "execution_count": 1,
   "metadata": {},
   "outputs": [],
   "source": [
    "import PIL\n",
    "from PIL import Image\n",
    "import pytesseract"
   ]
  },
  {
   "cell_type": "code",
   "execution_count": 2,
   "metadata": {},
   "outputs": [
    {
     "name": "stdout",
     "output_type": "stream",
     "text": [
      "08.22\n",
      "\n",
      "lfeverylhlng were fine, I wouldn't have been here.\n",
      "\n",
      "And if nobody has ever noticed this, mar-sjusr\n",
      "ﬁne. I'm used to loneliness.\n",
      "\n",
      "if I can paint the sky, i would like to leave it\n",
      "transparent. I'd like to see 2 clear sky with sunsets\n",
      "and sunrise, clouds and rain. Everything is not to be\n",
      "\n",
      "changed.\n"
     ]
    }
   ],
   "source": [
    "# for English text\n",
    "text_Eng = pytesseract.image_to_string(Image.open('test_e1.png'))\n",
    "print(text_Eng)"
   ]
  }
 ],
 "metadata": {
  "kernelspec": {
   "display_name": "Python 3",
   "language": "python",
   "name": "python3"
  },
  "language_info": {
   "codemirror_mode": {
    "name": "ipython",
    "version": 3
   },
   "file_extension": ".py",
   "mimetype": "text/x-python",
   "name": "python",
   "nbconvert_exporter": "python",
   "pygments_lexer": "ipython3",
   "version": "3.7.3"
  }
 },
 "nbformat": 4,
 "nbformat_minor": 2
}
